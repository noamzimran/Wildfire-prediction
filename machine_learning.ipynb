{
 "cells": [
  {
   "cell_type": "code",
   "execution_count": 54,
   "metadata": {
    "collapsed": true
   },
   "outputs": [],
   "source": [
    "# data handling and analysis libraries\n",
    "import geopandas as gpd\n",
    "import pandas as pd\n",
    "import numpy as np\n",
    "\n",
    "# machine learning\n",
    "from sklearn import datasets, preprocessing\n",
    "from sklearn.model_selection import train_test_split\n",
    "from sklearn.preprocessing import  StandardScaler\n",
    "from sklearn.neural_network import MLPClassifier\n",
    "from sklearn.metrics import classification_report, confusion_matrix\n",
    "from sklearn.ensemble import RandomForestClassifier\n",
    "from sklearn.utils import resample\n",
    "import xgboost as xgb\n",
    "\n",
    "# visualization\n",
    "import seaborn as sns\n",
    "import matplotlib.pyplot as plt\n"
   ]
  },
  {
   "cell_type": "markdown",
   "source": [
    "load our main GeoDataFrame"
   ],
   "metadata": {
    "collapsed": false,
    "pycharm": {
     "name": "#%% md\n"
    }
   }
  },
  {
   "cell_type": "code",
   "execution_count": 55,
   "outputs": [],
   "source": [
    "gdf = gpd.read_file('cells_finish.shp')"
   ],
   "metadata": {
    "collapsed": false,
    "pycharm": {
     "name": "#%%\n"
    }
   }
  },
  {
   "cell_type": "markdown",
   "source": [
    "arrange data for learning"
   ],
   "metadata": {
    "collapsed": false,
    "pycharm": {
     "name": "#%% md\n"
    }
   }
  },
  {
   "cell_type": "code",
   "execution_count": 56,
   "outputs": [
    {
     "data": {
      "text/plain": "Index(['fid', 'location', 'min_height', 'max_height', 'avg_height',\n       'std_height', 'nearest ci', 'week', 'year', 'fire', 'temperatur',\n       'humidity', 'pressure', 'wind_speed', 'ULcorner_L', 'ULcorner_1',\n       'geometry'],\n      dtype='object')"
     },
     "execution_count": 56,
     "metadata": {},
     "output_type": "execute_result"
    }
   ],
   "source": [
    "gdf.columns"
   ],
   "metadata": {
    "collapsed": false,
    "pycharm": {
     "name": "#%%\n"
    }
   }
  },
  {
   "cell_type": "code",
   "execution_count": 57,
   "outputs": [],
   "source": [
    "gdf = gdf.rename(columns={\"ULcorner_L\": \"ULcorner_Lat\", \"ULcorner_1\": \"ULcorner_Long\"})"
   ],
   "metadata": {
    "collapsed": false,
    "pycharm": {
     "name": "#%%\n"
    }
   }
  },
  {
   "cell_type": "code",
   "execution_count": 58,
   "outputs": [],
   "source": [
    "gdf = gdf.drop(columns=['fid', 'location', 'year','geometry', 'nearest ci'])"
   ],
   "metadata": {
    "collapsed": false,
    "pycharm": {
     "name": "#%%\n"
    }
   }
  },
  {
   "cell_type": "code",
   "execution_count": 59,
   "outputs": [
    {
     "data": {
      "text/plain": "   min_height  max_height  avg_height  std_height  week  fire  temperatur  \\\n0        91.0       214.0  148.968819   25.747558  39.0   NaN  294.500153   \n1       141.0       463.0  205.685903   34.354413  39.0   NaN  294.500153   \n2       165.0       592.0  246.467083   33.330296  39.0   NaN  294.500153   \n3        61.0       521.0  230.628333   47.022054  39.0   NaN  294.500153   \n4        48.0       400.0  164.990556   49.978685  39.0   NaN  294.500153   \n\n    humidity     pressure  wind_speed  ULcorner_Lat  ULcorner_Long  \n0  70.148387  1014.387097    1.187097     33.000417    -115.000417  \n1  70.148387  1014.387097    1.187097     33.000417    -114.900417  \n2  70.148387  1014.387097    1.187097     33.000417    -114.800417  \n3  70.148387  1014.387097    1.187097     33.000417    -114.700417  \n4  70.148387  1014.387097    1.187097     33.000417    -114.600417  ",
      "text/html": "<div>\n<style scoped>\n    .dataframe tbody tr th:only-of-type {\n        vertical-align: middle;\n    }\n\n    .dataframe tbody tr th {\n        vertical-align: top;\n    }\n\n    .dataframe thead th {\n        text-align: right;\n    }\n</style>\n<table border=\"1\" class=\"dataframe\">\n  <thead>\n    <tr style=\"text-align: right;\">\n      <th></th>\n      <th>min_height</th>\n      <th>max_height</th>\n      <th>avg_height</th>\n      <th>std_height</th>\n      <th>week</th>\n      <th>fire</th>\n      <th>temperatur</th>\n      <th>humidity</th>\n      <th>pressure</th>\n      <th>wind_speed</th>\n      <th>ULcorner_Lat</th>\n      <th>ULcorner_Long</th>\n    </tr>\n  </thead>\n  <tbody>\n    <tr>\n      <td>0</td>\n      <td>91.0</td>\n      <td>214.0</td>\n      <td>148.968819</td>\n      <td>25.747558</td>\n      <td>39.0</td>\n      <td>NaN</td>\n      <td>294.500153</td>\n      <td>70.148387</td>\n      <td>1014.387097</td>\n      <td>1.187097</td>\n      <td>33.000417</td>\n      <td>-115.000417</td>\n    </tr>\n    <tr>\n      <td>1</td>\n      <td>141.0</td>\n      <td>463.0</td>\n      <td>205.685903</td>\n      <td>34.354413</td>\n      <td>39.0</td>\n      <td>NaN</td>\n      <td>294.500153</td>\n      <td>70.148387</td>\n      <td>1014.387097</td>\n      <td>1.187097</td>\n      <td>33.000417</td>\n      <td>-114.900417</td>\n    </tr>\n    <tr>\n      <td>2</td>\n      <td>165.0</td>\n      <td>592.0</td>\n      <td>246.467083</td>\n      <td>33.330296</td>\n      <td>39.0</td>\n      <td>NaN</td>\n      <td>294.500153</td>\n      <td>70.148387</td>\n      <td>1014.387097</td>\n      <td>1.187097</td>\n      <td>33.000417</td>\n      <td>-114.800417</td>\n    </tr>\n    <tr>\n      <td>3</td>\n      <td>61.0</td>\n      <td>521.0</td>\n      <td>230.628333</td>\n      <td>47.022054</td>\n      <td>39.0</td>\n      <td>NaN</td>\n      <td>294.500153</td>\n      <td>70.148387</td>\n      <td>1014.387097</td>\n      <td>1.187097</td>\n      <td>33.000417</td>\n      <td>-114.700417</td>\n    </tr>\n    <tr>\n      <td>4</td>\n      <td>48.0</td>\n      <td>400.0</td>\n      <td>164.990556</td>\n      <td>49.978685</td>\n      <td>39.0</td>\n      <td>NaN</td>\n      <td>294.500153</td>\n      <td>70.148387</td>\n      <td>1014.387097</td>\n      <td>1.187097</td>\n      <td>33.000417</td>\n      <td>-114.600417</td>\n    </tr>\n  </tbody>\n</table>\n</div>"
     },
     "execution_count": 59,
     "metadata": {},
     "output_type": "execute_result"
    }
   ],
   "source": [
    "gdf.head()\n"
   ],
   "metadata": {
    "collapsed": false,
    "pycharm": {
     "name": "#%%\n"
    }
   }
  },
  {
   "cell_type": "code",
   "execution_count": 60,
   "outputs": [],
   "source": [
    "gdf['fire'] = gdf['fire'].fillna(0)"
   ],
   "metadata": {
    "collapsed": false,
    "pycharm": {
     "name": "#%%\n"
    }
   }
  },
  {
   "cell_type": "code",
   "execution_count": 61,
   "outputs": [
    {
     "data": {
      "text/plain": "   min_height  max_height  avg_height  std_height  week  fire  temperatur  \\\n0        91.0       214.0  148.968819   25.747558  39.0   0.0  294.500153   \n1       141.0       463.0  205.685903   34.354413  39.0   0.0  294.500153   \n2       165.0       592.0  246.467083   33.330296  39.0   0.0  294.500153   \n3        61.0       521.0  230.628333   47.022054  39.0   0.0  294.500153   \n4        48.0       400.0  164.990556   49.978685  39.0   0.0  294.500153   \n\n    humidity     pressure  wind_speed  ULcorner_Lat  ULcorner_Long  \n0  70.148387  1014.387097    1.187097     33.000417    -115.000417  \n1  70.148387  1014.387097    1.187097     33.000417    -114.900417  \n2  70.148387  1014.387097    1.187097     33.000417    -114.800417  \n3  70.148387  1014.387097    1.187097     33.000417    -114.700417  \n4  70.148387  1014.387097    1.187097     33.000417    -114.600417  ",
      "text/html": "<div>\n<style scoped>\n    .dataframe tbody tr th:only-of-type {\n        vertical-align: middle;\n    }\n\n    .dataframe tbody tr th {\n        vertical-align: top;\n    }\n\n    .dataframe thead th {\n        text-align: right;\n    }\n</style>\n<table border=\"1\" class=\"dataframe\">\n  <thead>\n    <tr style=\"text-align: right;\">\n      <th></th>\n      <th>min_height</th>\n      <th>max_height</th>\n      <th>avg_height</th>\n      <th>std_height</th>\n      <th>week</th>\n      <th>fire</th>\n      <th>temperatur</th>\n      <th>humidity</th>\n      <th>pressure</th>\n      <th>wind_speed</th>\n      <th>ULcorner_Lat</th>\n      <th>ULcorner_Long</th>\n    </tr>\n  </thead>\n  <tbody>\n    <tr>\n      <td>0</td>\n      <td>91.0</td>\n      <td>214.0</td>\n      <td>148.968819</td>\n      <td>25.747558</td>\n      <td>39.0</td>\n      <td>0.0</td>\n      <td>294.500153</td>\n      <td>70.148387</td>\n      <td>1014.387097</td>\n      <td>1.187097</td>\n      <td>33.000417</td>\n      <td>-115.000417</td>\n    </tr>\n    <tr>\n      <td>1</td>\n      <td>141.0</td>\n      <td>463.0</td>\n      <td>205.685903</td>\n      <td>34.354413</td>\n      <td>39.0</td>\n      <td>0.0</td>\n      <td>294.500153</td>\n      <td>70.148387</td>\n      <td>1014.387097</td>\n      <td>1.187097</td>\n      <td>33.000417</td>\n      <td>-114.900417</td>\n    </tr>\n    <tr>\n      <td>2</td>\n      <td>165.0</td>\n      <td>592.0</td>\n      <td>246.467083</td>\n      <td>33.330296</td>\n      <td>39.0</td>\n      <td>0.0</td>\n      <td>294.500153</td>\n      <td>70.148387</td>\n      <td>1014.387097</td>\n      <td>1.187097</td>\n      <td>33.000417</td>\n      <td>-114.800417</td>\n    </tr>\n    <tr>\n      <td>3</td>\n      <td>61.0</td>\n      <td>521.0</td>\n      <td>230.628333</td>\n      <td>47.022054</td>\n      <td>39.0</td>\n      <td>0.0</td>\n      <td>294.500153</td>\n      <td>70.148387</td>\n      <td>1014.387097</td>\n      <td>1.187097</td>\n      <td>33.000417</td>\n      <td>-114.700417</td>\n    </tr>\n    <tr>\n      <td>4</td>\n      <td>48.0</td>\n      <td>400.0</td>\n      <td>164.990556</td>\n      <td>49.978685</td>\n      <td>39.0</td>\n      <td>0.0</td>\n      <td>294.500153</td>\n      <td>70.148387</td>\n      <td>1014.387097</td>\n      <td>1.187097</td>\n      <td>33.000417</td>\n      <td>-114.600417</td>\n    </tr>\n  </tbody>\n</table>\n</div>"
     },
     "execution_count": 61,
     "metadata": {},
     "output_type": "execute_result"
    }
   ],
   "source": [
    "gdf.head()"
   ],
   "metadata": {
    "collapsed": false,
    "pycharm": {
     "name": "#%%\n"
    }
   }
  },
  {
   "cell_type": "markdown",
   "source": [
    "Preprocess: split data to features and labels"
   ],
   "metadata": {
    "collapsed": false
   }
  },
  {
   "cell_type": "code",
   "execution_count": 62,
   "outputs": [
    {
     "data": {
      "text/plain": "   fire\n0   0.0\n1   0.0\n2   0.0\n3   0.0\n4   0.0",
      "text/html": "<div>\n<style scoped>\n    .dataframe tbody tr th:only-of-type {\n        vertical-align: middle;\n    }\n\n    .dataframe tbody tr th {\n        vertical-align: top;\n    }\n\n    .dataframe thead th {\n        text-align: right;\n    }\n</style>\n<table border=\"1\" class=\"dataframe\">\n  <thead>\n    <tr style=\"text-align: right;\">\n      <th></th>\n      <th>fire</th>\n    </tr>\n  </thead>\n  <tbody>\n    <tr>\n      <td>0</td>\n      <td>0.0</td>\n    </tr>\n    <tr>\n      <td>1</td>\n      <td>0.0</td>\n    </tr>\n    <tr>\n      <td>2</td>\n      <td>0.0</td>\n    </tr>\n    <tr>\n      <td>3</td>\n      <td>0.0</td>\n    </tr>\n    <tr>\n      <td>4</td>\n      <td>0.0</td>\n    </tr>\n  </tbody>\n</table>\n</div>"
     },
     "execution_count": 62,
     "metadata": {},
     "output_type": "execute_result"
    }
   ],
   "source": [
    "X = pd.DataFrame(gdf.loc[:, gdf.columns != 'fire'])\n",
    "y = pd.DataFrame(gdf['fire'])\n",
    "y.head()"
   ],
   "metadata": {
    "collapsed": false,
    "pycharm": {
     "name": "#%%\n"
    }
   }
  },
  {
   "cell_type": "code",
   "execution_count": 112,
   "outputs": [],
   "source": [
    "# the test set will be the the last year we have data for\n",
    "X_train = X.loc[:121680]\n",
    "X_test = X.loc[121680:]\n",
    "y_train = y.loc[:121680]\n",
    "y_test = y.loc[121680:]\n"
   ],
   "metadata": {
    "collapsed": false,
    "pycharm": {
     "name": "#%%\n"
    }
   }
  },
  {
   "cell_type": "markdown",
   "source": [
    "Feature Scaling"
   ],
   "metadata": {
    "collapsed": false,
    "pycharm": {
     "name": "#%% md\n"
    }
   }
  },
  {
   "cell_type": "code",
   "execution_count": 113,
   "outputs": [],
   "source": [
    "scalar = StandardScaler()\n",
    "scalar.fit(X_train)\n",
    "\n",
    "X_train = scalar.transform(X_train)\n",
    "X_test = scalar.transform(X_test)"
   ],
   "metadata": {
    "collapsed": false,
    "pycharm": {
     "name": "#%%\n"
    }
   }
  },
  {
   "cell_type": "markdown",
   "source": [
    "### Training ANN using Scikit learn"
   ],
   "metadata": {
    "collapsed": false
   }
  },
  {
   "cell_type": "markdown",
   "source": [
    "Training and Predictions\n",
    "\n"
   ],
   "metadata": {
    "collapsed": false
   }
  },
  {
   "cell_type": "code",
   "execution_count": 66,
   "outputs": [],
   "source": [
    "mlps = []\n",
    "mlps.append(MLPClassifier(hidden_layer_sizes=3, max_iter=1000))\n",
    "mlps.append(MLPClassifier(hidden_layer_sizes=10, max_iter=1000))\n",
    "mlps.append(MLPClassifier(hidden_layer_sizes=(10,10,10), max_iter=1000))\n",
    "\n",
    "predictions = []\n",
    "for i,mlp in enumerate(mlps):\n",
    "    mlp.fit(X_train, y_train.values.ravel())\n",
    "    predictions.append(mlp.predict(X_test))"
   ],
   "metadata": {
    "collapsed": false,
    "pycharm": {
     "name": "#%%\n"
    }
   }
  },
  {
   "cell_type": "markdown",
   "source": [
    "Evaluate the Algorithm"
   ],
   "metadata": {
    "collapsed": false
   }
  },
  {
   "cell_type": "code",
   "execution_count": 67,
   "outputs": [
    {
     "name": "stdout",
     "output_type": "stream",
     "text": [
      "[[52924     0]\n",
      " [ 1156     0]]\n",
      "              precision    recall  f1-score   support\n",
      "\n",
      "         0.0       0.98      1.00      0.99     52924\n",
      "         1.0       0.00      0.00      0.00      1156\n",
      "\n",
      "    accuracy                           0.98     54080\n",
      "   macro avg       0.49      0.50      0.49     54080\n",
      "weighted avg       0.96      0.98      0.97     54080\n",
      "\n",
      "_ _ _ _ _ _ _ _ _ _ _ _ _ _ _ _ _ _ _ _ _ _ _ _ _ _ _ _ _ _ _ \n",
      "[[52922     2]\n",
      " [ 1156     0]]\n",
      "              precision    recall  f1-score   support\n",
      "\n",
      "         0.0       0.98      1.00      0.99     52924\n",
      "         1.0       0.00      0.00      0.00      1156\n",
      "\n",
      "    accuracy                           0.98     54080\n",
      "   macro avg       0.49      0.50      0.49     54080\n",
      "weighted avg       0.96      0.98      0.97     54080\n",
      "\n",
      "_ _ _ _ _ _ _ _ _ _ _ _ _ _ _ _ _ _ _ _ _ _ _ _ _ _ _ _ _ _ _ \n",
      "[[52910    14]\n",
      " [ 1150     6]]\n",
      "              precision    recall  f1-score   support\n",
      "\n",
      "         0.0       0.98      1.00      0.99     52924\n",
      "         1.0       0.30      0.01      0.01      1156\n",
      "\n",
      "    accuracy                           0.98     54080\n",
      "   macro avg       0.64      0.50      0.50     54080\n",
      "weighted avg       0.96      0.98      0.97     54080\n",
      "\n",
      "_ _ _ _ _ _ _ _ _ _ _ _ _ _ _ _ _ _ _ _ _ _ _ _ _ _ _ _ _ _ _ \n"
     ]
    },
    {
     "name": "stderr",
     "output_type": "stream",
     "text": [
      "C:\\Users\\Dell\\Anaconda3\\lib\\site-packages\\sklearn\\metrics\\classification.py:1437: UndefinedMetricWarning: Precision and F-score are ill-defined and being set to 0.0 in labels with no predicted samples.\n",
      "  'precision', 'predicted', average, warn_for)\n"
     ]
    }
   ],
   "source": [
    "for prediction in predictions:\n",
    "    print(confusion_matrix(y_test,prediction))\n",
    "    print(classification_report(y_test,prediction))\n",
    "    print('_ _ _ _ _ _ _ _ _ _ _ _ _ _ _ _ _ _ _ _ _ _ _ _ _ _ _ _ _ _ _ ')\n"
   ],
   "metadata": {
    "collapsed": false,
    "pycharm": {
     "name": "#%%\n"
    }
   }
  },
  {
   "cell_type": "markdown",
   "source": [
    "### Training Random forest using Scikit learn"
   ],
   "metadata": {
    "collapsed": false
   }
  },
  {
   "cell_type": "code",
   "execution_count": 116,
   "outputs": [
    {
     "name": "stderr",
     "output_type": "stream",
     "text": [
      "C:\\Users\\Dell\\Anaconda3\\lib\\site-packages\\ipykernel_launcher.py:2: DataConversionWarning: A column-vector y was passed when a 1d array was expected. Please change the shape of y to (n_samples,), for example using ravel().\n",
      "  \n"
     ]
    },
    {
     "name": "stdout",
     "output_type": "stream",
     "text": [
      "[[52905    19]\n",
      " [ 1141    15]]\n",
      "              precision    recall  f1-score   support\n",
      "\n",
      "         0.0       0.98      1.00      0.99     52924\n",
      "         1.0       0.44      0.01      0.03      1156\n",
      "\n",
      "    accuracy                           0.98     54080\n",
      "   macro avg       0.71      0.51      0.51     54080\n",
      "weighted avg       0.97      0.98      0.97     54080\n",
      "\n"
     ]
    }
   ],
   "source": [
    "forest_clf = RandomForestClassifier(n_estimators=100,class_weight='balanced')\n",
    "forest_clf.fit(X_train, y_train)\n",
    "y_pred = forest_clf.predict(X_test)\n",
    "print(confusion_matrix(y_test,y_pred))\n",
    "print(classification_report(y_test,y_pred))"
   ],
   "metadata": {
    "collapsed": false,
    "pycharm": {
     "name": "#%%\n"
    }
   }
  },
  {
   "cell_type": "code",
   "execution_count": 69,
   "outputs": [
    {
     "data": {
      "text/plain": "Text(0.5, 1.0, 'Visualizing Features Importance')"
     },
     "execution_count": 69,
     "metadata": {},
     "output_type": "execute_result"
    },
    {
     "data": {
      "text/plain": "<Figure size 360x360 with 1 Axes>",
      "image/png": "[encoded data removed]"
     },
     "metadata": {
      "needs_background": "light"
     },
     "output_type": "display_data"
    }
   ],
   "source": [
    "feature_importance = pd.Series(forest_clf.feature_importances_,index=X.columns).sort_values(ascending=False)\n",
    "sns.barplot(x=feature_importance.values, y=feature_importance.index)\n",
    "plt.title('Visualizing Features Importance')"
   ],
   "metadata": {
    "collapsed": false,
    "pycharm": {
     "name": "#%%\n"
    }
   }
  },
  {
   "cell_type": "markdown",
   "source": [
    "### Training model using XGBoost\n"
   ],
   "metadata": {
    "collapsed": false
   }
  },
  {
   "cell_type": "code",
   "execution_count": 115,
   "outputs": [
    {
     "name": "stderr",
     "output_type": "stream",
     "text": [
      "C:\\Users\\Dell\\Anaconda3\\lib\\site-packages\\sklearn\\preprocessing\\label.py:219: DataConversionWarning: A column-vector y was passed when a 1d array was expected. Please change the shape of y to (n_samples, ), for example using ravel().\n",
      "  y = column_or_1d(y, warn=True)\n",
      "C:\\Users\\Dell\\Anaconda3\\lib\\site-packages\\sklearn\\preprocessing\\label.py:252: DataConversionWarning: A column-vector y was passed when a 1d array was expected. Please change the shape of y to (n_samples, ), for example using ravel().\n",
      "  y = column_or_1d(y, warn=True)\n",
      "C:\\Users\\Dell\\Anaconda3\\lib\\site-packages\\sklearn\\metrics\\classification.py:1437: UndefinedMetricWarning: Precision and F-score are ill-defined and being set to 0.0 in labels with no predicted samples.\n",
      "  'precision', 'predicted', average, warn_for)\n"
     ]
    },
    {
     "name": "stdout",
     "output_type": "stream",
     "text": [
      "              precision    recall  f1-score   support\n",
      "\n",
      "         0.0       0.98      1.00      0.99     52924\n",
      "         1.0       0.00      0.00      0.00      1156\n",
      "\n",
      "    accuracy                           0.98     54080\n",
      "   macro avg       0.49      0.50      0.49     54080\n",
      "weighted avg       0.96      0.98      0.97     54080\n",
      "\n"
     ]
    }
   ],
   "source": [
    "xg_reg = xgb.XGBClassifier(objective ='binary:logistic', colsample_bytree = 0.3, learning_rate = 0.1,\n",
    "                max_depth = 5, alpha = 1, n_estimators = 100)\n",
    "xg_reg.fit(X_train,y_train)\n",
    "\n",
    "y_pred = xg_reg.predict(X_test)\n",
    "print(classification_report(y_test,y_pred))"
   ],
   "metadata": {
    "collapsed": false,
    "pycharm": {
     "name": "#%%\n"
    }
   }
  },
  {
   "cell_type": "code",
   "execution_count": 72,
   "outputs": [
    {
     "data": {
      "text/plain": "<Figure size 360x360 with 1 Axes>",
      "image/png": "[encoded data removed]"
     },
     "metadata": {
      "needs_background": "light"
     },
     "output_type": "display_data"
    }
   ],
   "source": [
    "data_dmatrix = xgb.DMatrix(data=X,label=y)\n",
    "params = {\"objective\":\"binary:logistic\",'colsample_bytree': 0.3,'learning_rate': 0.1,\n",
    "                'max_depth': 5, 'alpha': 10}\n",
    "xg_reg = xgb.train(params=params, dtrain=data_dmatrix, num_boost_round=10)\n",
    "xgb.plot_importance(xg_reg)\n",
    "plt.rcParams['figure.figsize'] = [5, 5]\n",
    "plt.show()"
   ],
   "metadata": {
    "collapsed": false,
    "pycharm": {
     "name": "#%%\n"
    }
   }
  },
  {
   "cell_type": "code",
   "execution_count": 73,
   "outputs": [],
   "source": [
    "# xgb.plot_tree(xg_reg,num_trees=0)\n",
    "# plt.rcParams['figure.figsize'] = [50, 10]\n",
    "# plt.show()"
   ],
   "metadata": {
    "collapsed": false,
    "pycharm": {
     "name": "#%%\n"
    }
   }
  },
  {
   "cell_type": "markdown",
   "source": [
    "### Data Analysis"
   ],
   "metadata": {
    "collapsed": false
   }
  },
  {
   "cell_type": "code",
   "execution_count": 74,
   "outputs": [
    {
     "data": {
      "text/plain": "<seaborn.axisgrid.FacetGrid at 0x22abaf2d548>"
     },
     "execution_count": 74,
     "metadata": {},
     "output_type": "execute_result"
    },
    {
     "data": {
      "text/plain": "<Figure size 360x360 with 1 Axes>",
      "image/png": "[encoded data removed]"
     },
     "metadata": {
      "needs_background": "light"
     },
     "output_type": "display_data"
    }
   ],
   "source": [
    "sns.catplot(x = \"fire\", hue=\"fire\", kind=\"count\", data=gdf)"
   ],
   "metadata": {
    "collapsed": false,
    "pycharm": {
     "name": "#%%\n"
    }
   }
  },
  {
   "cell_type": "markdown",
   "source": [
    "we can see we have highly imbalanced classes"
   ],
   "metadata": {
    "collapsed": false,
    "pycharm": {
     "name": "#%% md\n"
    }
   }
  },
  {
   "cell_type": "markdown",
   "source": [
    "We will try upsampling"
   ],
   "metadata": {
    "collapsed": false,
    "pycharm": {
     "name": "#%% md\n"
    }
   }
  },
  {
   "cell_type": "code",
   "execution_count": 123,
   "outputs": [
    {
     "data": {
      "text/plain": "1.0    118615\n0.0    118615\nName: fire, dtype: int64"
     },
     "execution_count": 123,
     "metadata": {},
     "output_type": "execute_result"
    }
   ],
   "source": [
    "df_train = gdf.loc[:121680]\n",
    "# Separate majority and minority classes\n",
    "df_majority = df_train[df_train['fire']==0]\n",
    "df_minority = df_train[df_train['fire']==1]\n",
    "\n",
    "# Upsample minority class\n",
    "df_minority_upsampled = resample(df_minority,\n",
    "                                 replace=True,     # sample with replacement\n",
    "                                 n_samples=118615,    # to match majority class\n",
    "                                 random_state=123) # reproducible results\n",
    "\n",
    "# Combine majority class with upsampled minority class\n",
    "df_upsampled = pd.concat([df_majority, df_minority_upsampled])\n",
    "\n",
    "# Display new class counts\n",
    "df_upsampled.fire.value_counts()"
   ],
   "metadata": {
    "collapsed": false,
    "pycharm": {
     "name": "#%%\n"
    }
   }
  },
  {
   "cell_type": "code",
   "execution_count": 124,
   "outputs": [],
   "source": [
    "y_train_upsampled = df_upsampled.fire\n",
    "X_train_upsampled = df_upsampled.drop('fire', axis=1)"
   ],
   "metadata": {
    "collapsed": false,
    "pycharm": {
     "name": "#%%\n"
    }
   }
  },
  {
   "cell_type": "code",
   "execution_count": 125,
   "outputs": [],
   "source": [
    "X_test = X.loc[121680:]\n",
    "\n",
    "scalar = StandardScaler()\n",
    "scalar.fit(X_train_upsampled)\n",
    "\n",
    "X_train_upsampled = scalar.transform(X_train_upsampled)\n",
    "X_test_upsampled = scalar.transform(X_test)"
   ],
   "metadata": {
    "collapsed": false,
    "pycharm": {
     "name": "#%%\n"
    }
   }
  },
  {
   "cell_type": "code",
   "execution_count": 126,
   "outputs": [
    {
     "name": "stdout",
     "output_type": "stream",
     "text": [
      "[[37947 14977]\n",
      " [  206   950]]\n",
      "              precision    recall  f1-score   support\n",
      "\n",
      "         0.0       0.99      0.72      0.83     52924\n",
      "         1.0       0.06      0.82      0.11      1156\n",
      "\n",
      "    accuracy                           0.72     54080\n",
      "   macro avg       0.53      0.77      0.47     54080\n",
      "weighted avg       0.97      0.72      0.82     54080\n",
      "\n"
     ]
    }
   ],
   "source": [
    "xg_reg = xgb.XGBClassifier(objective ='binary:logistic', colsample_bytree = 0.3, learning_rate = 0.1,\n",
    "                max_depth = 5, alpha = 10, n_estimators = 10)\n",
    "xg_reg.fit(X_train_upsampled,y_train_upsampled)\n",
    "\n",
    "y_pred = xg_reg.predict(X_test_upsampled)\n",
    "print(confusion_matrix(y_test,y_pred))\n",
    "print(classification_report(y_test,y_pred))"
   ],
   "metadata": {
    "collapsed": false,
    "pycharm": {
     "name": "#%%\n"
    }
   }
  },
  {
   "cell_type": "code",
   "execution_count": 127,
   "outputs": [
    {
     "name": "stdout",
     "output_type": "stream",
     "text": [
      "[[52732   192]\n",
      " [ 1094    62]]\n",
      "              precision    recall  f1-score   support\n",
      "\n",
      "         0.0       0.98      1.00      0.99     52924\n",
      "         1.0       0.24      0.05      0.09      1156\n",
      "\n",
      "    accuracy                           0.98     54080\n",
      "   macro avg       0.61      0.53      0.54     54080\n",
      "weighted avg       0.96      0.98      0.97     54080\n",
      "\n"
     ]
    }
   ],
   "source": [
    "forest_clf = RandomForestClassifier(n_estimators=100,class_weight='balanced')\n",
    "forest_clf.fit(X_train_upsampled, y_train_upsampled)\n",
    "y_pred = forest_clf.predict(X_test_upsampled)\n",
    "print(confusion_matrix(y_test,y_pred))\n",
    "print(classification_report(y_test,y_pred))\n",
    "\n"
   ],
   "metadata": {
    "collapsed": false,
    "pycharm": {
     "name": "#%%\n"
    }
   }
  },
  {
   "cell_type": "markdown",
   "source": [
    "We will try Down sample"
   ],
   "metadata": {
    "collapsed": false,
    "pycharm": {
     "name": "#%% md\n"
    }
   }
  },
  {
   "cell_type": "code",
   "execution_count": 117,
   "outputs": [
    {
     "data": {
      "text/plain": "1.0    3066\n0.0    3066\nName: fire, dtype: int64"
     },
     "execution_count": 117,
     "metadata": {},
     "output_type": "execute_result"
    }
   ],
   "source": [
    "df_train = gdf.loc[:121680]\n",
    "# Separate majority and minority classes\n",
    "df_majority = df_train[df_train['fire']==0]\n",
    "df_minority = df_train[df_train['fire']==1]\n",
    "\n",
    "# Downsample majority class\n",
    "df_majority_downsampled = resample(df_majority,\n",
    "                                 replace=False,    # sample without replacement\n",
    "                                 n_samples=3066,     # to match minority class\n",
    "                                 random_state=123) # reproducible results\n",
    "\n",
    "# Combine minority class with downsampled majority class\n",
    "df_downsampled = pd.concat([df_majority_downsampled, df_minority])\n",
    "\n",
    "# Display new class counts\n",
    "df_downsampled.fire.value_counts()\n"
   ],
   "metadata": {
    "collapsed": false,
    "pycharm": {
     "name": "#%%\n"
    }
   }
  },
  {
   "cell_type": "code",
   "execution_count": 118,
   "outputs": [],
   "source": [
    "y_train_downsampled = df_downsampled.fire\n",
    "X_train_downsampled = df_downsampled.drop('fire', axis=1)"
   ],
   "metadata": {
    "collapsed": false,
    "pycharm": {
     "name": "#%%\n"
    }
   }
  },
  {
   "cell_type": "code",
   "execution_count": 119,
   "outputs": [],
   "source": [
    "X_test = X.loc[121680:]\n",
    "\n",
    "scalar = StandardScaler()\n",
    "scalar.fit(X_train_downsampled)\n",
    "\n",
    "X_train_downsampled = scalar.transform(X_train_downsampled)\n",
    "X_test_downsampled = scalar.transform(X_test)"
   ],
   "metadata": {
    "collapsed": false,
    "pycharm": {
     "name": "#%%\n"
    }
   }
  },
  {
   "cell_type": "code",
   "execution_count": 128,
   "outputs": [
    {
     "name": "stdout",
     "output_type": "stream",
     "text": [
      "[[42743 10181]\n",
      " [  304   852]]\n",
      "              precision    recall  f1-score   support\n",
      "\n",
      "         0.0       0.99      0.81      0.89     52924\n",
      "         1.0       0.08      0.74      0.14      1156\n",
      "\n",
      "    accuracy                           0.81     54080\n",
      "   macro avg       0.54      0.77      0.52     54080\n",
      "weighted avg       0.97      0.81      0.87     54080\n",
      "\n"
     ]
    }
   ],
   "source": [
    "xg_reg = xgb.XGBClassifier(objective ='binary:logistic', colsample_bytree = 0.3, learning_rate = 0.1,\n",
    "                max_depth = 5, alpha = 10, n_estimators = 100)\n",
    "xg_reg.fit(X_train_upsampled,y_train_upsampled)\n",
    "\n",
    "y_pred = xg_reg.predict(X_test_downsampled)\n",
    "print(confusion_matrix(y_test,y_pred))\n",
    "print(classification_report(y_test,y_pred))"
   ],
   "metadata": {
    "collapsed": false,
    "pycharm": {
     "name": "#%%\n"
    }
   }
  },
  {
   "cell_type": "code",
   "execution_count": 120,
   "outputs": [
    {
     "name": "stdout",
     "output_type": "stream",
     "text": [
      "[[40912 12012]\n",
      " [  226   930]]\n",
      "              precision    recall  f1-score   support\n",
      "\n",
      "         0.0       0.99      0.77      0.87     52924\n",
      "         1.0       0.07      0.80      0.13      1156\n",
      "\n",
      "    accuracy                           0.77     54080\n",
      "   macro avg       0.53      0.79      0.50     54080\n",
      "weighted avg       0.97      0.77      0.85     54080\n",
      "\n"
     ]
    }
   ],
   "source": [
    "forest_clf = RandomForestClassifier(n_estimators=100)\n",
    "forest_clf.fit(X_train_downsampled, y_train_downsampled)\n",
    "y_pred = forest_clf.predict(X_test_downsampled)\n",
    "print(confusion_matrix(y_test,y_pred))\n",
    "print(classification_report(y_test,y_pred))"
   ],
   "metadata": {
    "collapsed": false,
    "pycharm": {
     "name": "#%%\n"
    }
   }
  },
  {
   "cell_type": "code",
   "execution_count": 129,
   "outputs": [
    {
     "data": {
      "text/plain": "Text(0.5, 1.0, 'Visualizing Features Importance')"
     },
     "execution_count": 129,
     "metadata": {},
     "output_type": "execute_result"
    },
    {
     "data": {
      "text/plain": "<Figure size 360x360 with 1 Axes>",
      "image/png": "[encoded data removed]"
     },
     "metadata": {
      "needs_background": "light"
     },
     "output_type": "display_data"
    }
   ],
   "source": [
    "feature_importance = pd.Series(forest_clf.feature_importances_,index=X.columns).sort_values(ascending=False)\n",
    "sns.barplot(x=feature_importance.values, y=feature_importance.index)\n",
    "plt.title('Visualizing Features Importance')"
   ],
   "metadata": {
    "collapsed": false,
    "pycharm": {
     "name": "#%%\n"
    }
   }
  },
  {
   "cell_type": "code",
   "execution_count": null,
   "outputs": [],
   "source": [],
   "metadata": {
    "collapsed": false,
    "pycharm": {
     "name": "#%%\n"
    }
   }
  }
 ],
 "metadata": {
  "kernelspec": {
   "display_name": "Python 3",
   "language": "python",
   "name": "python3"
  },
  "language_info": {
   "codemirror_mode": {
    "name": "ipython",
    "version": 2
   },
   "file_extension": ".py",
   "mimetype": "text/x-python",
   "name": "python",
   "nbconvert_exporter": "python",
   "pygments_lexer": "ipython2",
   "version": "2.7.6"
  }
 },
 "nbformat": 4,
 "nbformat_minor": 0
}