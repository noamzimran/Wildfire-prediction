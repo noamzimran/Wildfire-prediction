{
 "cells": [
  {
   "cell_type": "code",
   "execution_count": 1,
   "metadata": {
    "collapsed": true
   },
   "outputs": [],
   "source": [
    "import geopandas as gpd\n",
    "import pandas as pd\n",
    "import numpy as np\n",
    "import gdal"
   ]
  },
  {
   "cell_type": "code",
   "execution_count": 2,
   "outputs": [
    {
     "data": {
      "text/plain": "   fid                                           location  \\\n0  1.0  C:/Users/Dell/OneDrive - Technion/××× ×××...   \n1  2.0  C:/Users/Dell/OneDrive - Technion/××× ×××...   \n2  3.0  C:/Users/Dell/OneDrive - Technion/××× ×××...   \n3  4.0  C:/Users/Dell/OneDrive - Technion/××× ×××...   \n4  5.0  C:/Users/Dell/OneDrive - Technion/××× ×××...   \n\n                                            geometry  \n0  POLYGON ((-115.00042 33.00042, -114.90042 33.0...  \n1  POLYGON ((-114.90042 33.00042, -114.80042 33.0...  \n2  POLYGON ((-114.80042 33.00042, -114.70042 33.0...  \n3  POLYGON ((-114.70042 33.00042, -114.60042 33.0...  \n4  POLYGON ((-114.60042 33.00042, -114.50042 33.0...  ",
      "text/html": "<div>\n<style scoped>\n    .dataframe tbody tr th:only-of-type {\n        vertical-align: middle;\n    }\n\n    .dataframe tbody tr th {\n        vertical-align: top;\n    }\n\n    .dataframe thead th {\n        text-align: right;\n    }\n</style>\n<table border=\"1\" class=\"dataframe\">\n  <thead>\n    <tr style=\"text-align: right;\">\n      <th></th>\n      <th>fid</th>\n      <th>location</th>\n      <th>geometry</th>\n    </tr>\n  </thead>\n  <tbody>\n    <tr>\n      <td>0</td>\n      <td>1.0</td>\n      <td>C:/Users/Dell/OneDrive - Technion/××× ×××...</td>\n      <td>POLYGON ((-115.00042 33.00042, -114.90042 33.0...</td>\n    </tr>\n    <tr>\n      <td>1</td>\n      <td>2.0</td>\n      <td>C:/Users/Dell/OneDrive - Technion/××× ×××...</td>\n      <td>POLYGON ((-114.90042 33.00042, -114.80042 33.0...</td>\n    </tr>\n    <tr>\n      <td>2</td>\n      <td>3.0</td>\n      <td>C:/Users/Dell/OneDrive - Technion/××× ×××...</td>\n      <td>POLYGON ((-114.80042 33.00042, -114.70042 33.0...</td>\n    </tr>\n    <tr>\n      <td>3</td>\n      <td>4.0</td>\n      <td>C:/Users/Dell/OneDrive - Technion/××× ×××...</td>\n      <td>POLYGON ((-114.70042 33.00042, -114.60042 33.0...</td>\n    </tr>\n    <tr>\n      <td>4</td>\n      <td>5.0</td>\n      <td>C:/Users/Dell/OneDrive - Technion/××× ×××...</td>\n      <td>POLYGON ((-114.60042 33.00042, -114.50042 33.0...</td>\n    </tr>\n  </tbody>\n</table>\n</div>"
     },
     "execution_count": 2,
     "metadata": {},
     "output_type": "execute_result"
    }
   ],
   "source": [
    "# load cells polygons\n",
    "geo_cells = gpd.read_file(r'data\\cells_polygons_california_only.shp',crs=\"EPSG:4326\")\n",
    "geo_cells.head()\n",
    "\n",
    "geo_cells = geo_cells.drop(columns=['path','layer'])\n",
    "geo_cells.head()"
   ],
   "metadata": {
    "collapsed": false,
    "pycharm": {
     "name": "#%%\n"
    }
   }
  },
  {
   "cell_type": "code",
   "execution_count": 3,
   "outputs": [
    {
     "data": {
      "text/plain": "   Unnamed_ 0  OBJECTID     FOD_ID      FPA_ID SOURCE_SYS   SOURCE_S_1  \\\n0     1567432   1567433  201433714  FS-1503920        FED  FS-FIRESTAT   \n1     1567433   1567434  201433715  FS-1507944        FED  FS-FIRESTAT   \n2     1567434   1567435  201433716  FS-1510402        FED  FS-FIRESTAT   \n3     1567435   1567436  201433717  FS-1503567        FED  FS-FIRESTAT   \n4     1567436   1567437  201433718  FS-1504047        FED  FS-FIRESTAT   \n\n  NWCG_REPOR NWCG_REP_1               NWCG_REP_2 SOURCE_REP  ...   LATITUDE  \\\n0         FS    USCAANF  Angeles National Forest       0501  ...  34.204167   \n1         FS    USCAANF  Angeles National Forest       0501  ...  34.345278   \n2         FS    USCAANF  Angeles National Forest       0501  ...  34.548056   \n3         FS    USCAANF  Angeles National Forest       0501  ...  34.174722   \n4         FS    USCAANF  Angeles National Forest       0501  ...  34.489444   \n\n    LONGITUDE OWNER_CODE             OWNER_DESC STATE COUNTY FIPS_CODE  \\\n0 -117.808333        5.0                   USFS    CA    037      37.0   \n1 -117.928889        5.0                   USFS    CA    037      37.0   \n2 -118.671667        5.0                   USFS    CA    037      37.0   \n3 -117.672500        5.0                   USFS    CA    071      71.0   \n4 -118.285833       14.0  MISSING/NOT SPECIFIED    CA    037      37.0   \n\n        FIPS_NAME                                              Shape  \\\n0     Los Angeles  b'\\x00\\x01\\xad\\x10\\x00\\x00x\\'\\xb8\\xbb\\xbbs]\\xc...   \n1     Los Angeles  b'\\x00\\x01\\xad\\x10\\x00\\x00\\xb8\\nc\\xear{]\\xc0`\\...   \n2     Los Angeles  b'\\x00\\x01\\xad\\x10\\x00\\x00\\xa4]3\\x96\\xfc\\xaa]\\...   \n3  San Bernardino  b'\\x00\\x01\\xad\\x10\\x00\\x00\\xd4\\xa3p=\\nk]\\xc0pd...   \n4     Los Angeles  b'\\x00\\x01\\xad\\x10\\x00\\x008\\x1d\\xe1\\x17K\\x92]\\...   \n\n                      geometry  \n0  POINT (-117.80833 34.20417)  \n1  POINT (-117.92889 34.34528)  \n2  POINT (-118.67167 34.54806)  \n3  POINT (-117.67250 34.17472)  \n4  POINT (-118.28583 34.48944)  \n\n[5 rows x 41 columns]",
      "text/html": "<div>\n<style scoped>\n    .dataframe tbody tr th:only-of-type {\n        vertical-align: middle;\n    }\n\n    .dataframe tbody tr th {\n        vertical-align: top;\n    }\n\n    .dataframe thead th {\n        text-align: right;\n    }\n</style>\n<table border=\"1\" class=\"dataframe\">\n  <thead>\n    <tr style=\"text-align: right;\">\n      <th></th>\n      <th>Unnamed_ 0</th>\n      <th>OBJECTID</th>\n      <th>FOD_ID</th>\n      <th>FPA_ID</th>\n      <th>SOURCE_SYS</th>\n      <th>SOURCE_S_1</th>\n      <th>NWCG_REPOR</th>\n      <th>NWCG_REP_1</th>\n      <th>NWCG_REP_2</th>\n      <th>SOURCE_REP</th>\n      <th>...</th>\n      <th>LATITUDE</th>\n      <th>LONGITUDE</th>\n      <th>OWNER_CODE</th>\n      <th>OWNER_DESC</th>\n      <th>STATE</th>\n      <th>COUNTY</th>\n      <th>FIPS_CODE</th>\n      <th>FIPS_NAME</th>\n      <th>Shape</th>\n      <th>geometry</th>\n    </tr>\n  </thead>\n  <tbody>\n    <tr>\n      <td>0</td>\n      <td>1567432</td>\n      <td>1567433</td>\n      <td>201433714</td>\n      <td>FS-1503920</td>\n      <td>FED</td>\n      <td>FS-FIRESTAT</td>\n      <td>FS</td>\n      <td>USCAANF</td>\n      <td>Angeles National Forest</td>\n      <td>0501</td>\n      <td>...</td>\n      <td>34.204167</td>\n      <td>-117.808333</td>\n      <td>5.0</td>\n      <td>USFS</td>\n      <td>CA</td>\n      <td>037</td>\n      <td>37.0</td>\n      <td>Los Angeles</td>\n      <td>b'\\x00\\x01\\xad\\x10\\x00\\x00x\\'\\xb8\\xbb\\xbbs]\\xc...</td>\n      <td>POINT (-117.80833 34.20417)</td>\n    </tr>\n    <tr>\n      <td>1</td>\n      <td>1567433</td>\n      <td>1567434</td>\n      <td>201433715</td>\n      <td>FS-1507944</td>\n      <td>FED</td>\n      <td>FS-FIRESTAT</td>\n      <td>FS</td>\n      <td>USCAANF</td>\n      <td>Angeles National Forest</td>\n      <td>0501</td>\n      <td>...</td>\n      <td>34.345278</td>\n      <td>-117.928889</td>\n      <td>5.0</td>\n      <td>USFS</td>\n      <td>CA</td>\n      <td>037</td>\n      <td>37.0</td>\n      <td>Los Angeles</td>\n      <td>b'\\x00\\x01\\xad\\x10\\x00\\x00\\xb8\\nc\\xear{]\\xc0`\\...</td>\n      <td>POINT (-117.92889 34.34528)</td>\n    </tr>\n    <tr>\n      <td>2</td>\n      <td>1567434</td>\n      <td>1567435</td>\n      <td>201433716</td>\n      <td>FS-1510402</td>\n      <td>FED</td>\n      <td>FS-FIRESTAT</td>\n      <td>FS</td>\n      <td>USCAANF</td>\n      <td>Angeles National Forest</td>\n      <td>0501</td>\n      <td>...</td>\n      <td>34.548056</td>\n      <td>-118.671667</td>\n      <td>5.0</td>\n      <td>USFS</td>\n      <td>CA</td>\n      <td>037</td>\n      <td>37.0</td>\n      <td>Los Angeles</td>\n      <td>b'\\x00\\x01\\xad\\x10\\x00\\x00\\xa4]3\\x96\\xfc\\xaa]\\...</td>\n      <td>POINT (-118.67167 34.54806)</td>\n    </tr>\n    <tr>\n      <td>3</td>\n      <td>1567435</td>\n      <td>1567436</td>\n      <td>201433717</td>\n      <td>FS-1503567</td>\n      <td>FED</td>\n      <td>FS-FIRESTAT</td>\n      <td>FS</td>\n      <td>USCAANF</td>\n      <td>Angeles National Forest</td>\n      <td>0501</td>\n      <td>...</td>\n      <td>34.174722</td>\n      <td>-117.672500</td>\n      <td>5.0</td>\n      <td>USFS</td>\n      <td>CA</td>\n      <td>071</td>\n      <td>71.0</td>\n      <td>San Bernardino</td>\n      <td>b'\\x00\\x01\\xad\\x10\\x00\\x00\\xd4\\xa3p=\\nk]\\xc0pd...</td>\n      <td>POINT (-117.67250 34.17472)</td>\n    </tr>\n    <tr>\n      <td>4</td>\n      <td>1567436</td>\n      <td>1567437</td>\n      <td>201433718</td>\n      <td>FS-1504047</td>\n      <td>FED</td>\n      <td>FS-FIRESTAT</td>\n      <td>FS</td>\n      <td>USCAANF</td>\n      <td>Angeles National Forest</td>\n      <td>0501</td>\n      <td>...</td>\n      <td>34.489444</td>\n      <td>-118.285833</td>\n      <td>14.0</td>\n      <td>MISSING/NOT SPECIFIED</td>\n      <td>CA</td>\n      <td>037</td>\n      <td>37.0</td>\n      <td>Los Angeles</td>\n      <td>b'\\x00\\x01\\xad\\x10\\x00\\x008\\x1d\\xe1\\x17K\\x92]\\...</td>\n      <td>POINT (-118.28583 34.48944)</td>\n    </tr>\n  </tbody>\n</table>\n<p>5 rows × 41 columns</p>\n</div>"
     },
     "execution_count": 3,
     "metadata": {},
     "output_type": "execute_result"
    }
   ],
   "source": [
    "# load fires data\n",
    "fires = gpd.read_file(r'data\\fires_2012-15.shp',crs=\"EPSG:4326\")\n",
    "fires.head()"
   ],
   "metadata": {
    "collapsed": false,
    "pycharm": {
     "name": "#%%\n"
    }
   }
  },
  {
   "cell_type": "code",
   "execution_count": 4,
   "outputs": [
    {
     "data": {
      "text/plain": "   fid                                           location  \\\n0  1.0  C:/Users/Dell/OneDrive - Technion/××× ×××...   \n1  2.0  C:/Users/Dell/OneDrive - Technion/××× ×××...   \n2  3.0  C:/Users/Dell/OneDrive - Technion/××× ×××...   \n3  4.0  C:/Users/Dell/OneDrive - Technion/××× ×××...   \n4  5.0  C:/Users/Dell/OneDrive - Technion/××× ×××...   \n\n                                            geometry  min_height  max_height  \\\n0  POLYGON ((-115.00042 33.00042, -114.90042 33.0...        91.0       214.0   \n1  POLYGON ((-114.90042 33.00042, -114.80042 33.0...       141.0       463.0   \n2  POLYGON ((-114.80042 33.00042, -114.70042 33.0...       165.0       592.0   \n3  POLYGON ((-114.70042 33.00042, -114.60042 33.0...        61.0       521.0   \n4  POLYGON ((-114.60042 33.00042, -114.50042 33.0...        48.0       400.0   \n\n   avg_height  std_height  \n0  148.968819   25.747558  \n1  205.685903   34.354413  \n2  246.467083   33.330296  \n3  230.628333   47.022054  \n4  164.990556   49.978685  ",
      "text/html": "<div>\n<style scoped>\n    .dataframe tbody tr th:only-of-type {\n        vertical-align: middle;\n    }\n\n    .dataframe tbody tr th {\n        vertical-align: top;\n    }\n\n    .dataframe thead th {\n        text-align: right;\n    }\n</style>\n<table border=\"1\" class=\"dataframe\">\n  <thead>\n    <tr style=\"text-align: right;\">\n      <th></th>\n      <th>fid</th>\n      <th>location</th>\n      <th>geometry</th>\n      <th>min_height</th>\n      <th>max_height</th>\n      <th>avg_height</th>\n      <th>std_height</th>\n    </tr>\n  </thead>\n  <tbody>\n    <tr>\n      <td>0</td>\n      <td>1.0</td>\n      <td>C:/Users/Dell/OneDrive - Technion/××× ×××...</td>\n      <td>POLYGON ((-115.00042 33.00042, -114.90042 33.0...</td>\n      <td>91.0</td>\n      <td>214.0</td>\n      <td>148.968819</td>\n      <td>25.747558</td>\n    </tr>\n    <tr>\n      <td>1</td>\n      <td>2.0</td>\n      <td>C:/Users/Dell/OneDrive - Technion/××× ×××...</td>\n      <td>POLYGON ((-114.90042 33.00042, -114.80042 33.0...</td>\n      <td>141.0</td>\n      <td>463.0</td>\n      <td>205.685903</td>\n      <td>34.354413</td>\n    </tr>\n    <tr>\n      <td>2</td>\n      <td>3.0</td>\n      <td>C:/Users/Dell/OneDrive - Technion/××× ×××...</td>\n      <td>POLYGON ((-114.80042 33.00042, -114.70042 33.0...</td>\n      <td>165.0</td>\n      <td>592.0</td>\n      <td>246.467083</td>\n      <td>33.330296</td>\n    </tr>\n    <tr>\n      <td>3</td>\n      <td>4.0</td>\n      <td>C:/Users/Dell/OneDrive - Technion/××× ×××...</td>\n      <td>POLYGON ((-114.70042 33.00042, -114.60042 33.0...</td>\n      <td>61.0</td>\n      <td>521.0</td>\n      <td>230.628333</td>\n      <td>47.022054</td>\n    </tr>\n    <tr>\n      <td>4</td>\n      <td>5.0</td>\n      <td>C:/Users/Dell/OneDrive - Technion/××× ×××...</td>\n      <td>POLYGON ((-114.60042 33.00042, -114.50042 33.0...</td>\n      <td>48.0</td>\n      <td>400.0</td>\n      <td>164.990556</td>\n      <td>49.978685</td>\n    </tr>\n  </tbody>\n</table>\n</div>"
     },
     "execution_count": 4,
     "metadata": {},
     "output_type": "execute_result"
    }
   ],
   "source": [
    "# calculate topographic statistics for each cell\n",
    "for i, cell in geo_cells.iterrows():\n",
    "    path = str(cell['location'][str.find(cell['location'],'data'):])\n",
    "    raster = gdal.Open(path)\n",
    "    band = raster.GetRasterBand(1)\n",
    "    stats = band.ComputeStatistics(0)\n",
    "    geo_cells.at[i,'min_height'] = stats[0]\n",
    "    geo_cells.at[i,'max_height'] = stats[1]\n",
    "    geo_cells.at[i,'avg_height'] = stats[2]\n",
    "    geo_cells.at[i,'std_height'] = stats[3]\n",
    "\n",
    "geo_cells.head()"
   ],
   "metadata": {
    "collapsed": false,
    "pycharm": {
     "name": "#%%\n"
    }
   }
  },
  {
   "cell_type": "code",
   "execution_count": 11,
   "outputs": [],
   "source": [
    "geo_cells.to_file('geo_cells_basic.shp')"
   ],
   "metadata": {
    "collapsed": false,
    "pycharm": {
     "name": "#%%\n"
    }
   }
  },
  {
   "cell_type": "markdown",
   "source": [
    "create cell for every week in every year"
   ],
   "metadata": {
    "collapsed": false,
    "pycharm": {
     "name": "#%% md\n"
    }
   }
  },
  {
   "cell_type": "code",
   "execution_count": 29,
   "outputs": [],
   "source": [
    "geo_cells_with_weeks = geo_cells.copy()\n",
    "geo_cells_with_weeks['week'] = 39\n",
    "geo_cells_with_weeks['year'] = 2012"
   ],
   "metadata": {
    "collapsed": false,
    "pycharm": {
     "name": "#%%\n"
    }
   }
  },
  {
   "cell_type": "code",
   "execution_count": 30,
   "outputs": [],
   "source": [
    "# for 2012\n",
    "\n",
    "for i in range(40,52):\n",
    "    gd = geo_cells.copy()\n",
    "    gd['week'] = i\n",
    "    gd['year'] = 2012\n",
    "    geo_cells_with_weeks = geo_cells_with_weeks.append(gd)"
   ],
   "metadata": {
    "collapsed": false,
    "pycharm": {
     "name": "#%%\n"
    }
   }
  },
  {
   "cell_type": "code",
   "execution_count": 31,
   "outputs": [],
   "source": [
    "# for 2013-2015\n",
    "\n",
    "for j in range (2013,2016):\n",
    "    for i in range(0,52):\n",
    "        gd = geo_cells.copy()\n",
    "        gd['week'] = i\n",
    "        gd['year'] = j\n",
    "        geo_cells_with_weeks = geo_cells_with_weeks.append(gd)\n",
    "\n",
    "geo_cells_with_weeks.reset_index(drop=True, inplace=True)"
   ],
   "metadata": {
    "collapsed": false,
    "pycharm": {
     "name": "#%%\n"
    }
   }
  },
  {
   "cell_type": "code",
   "execution_count": 33,
   "outputs": [
    {
     "name": "stderr",
     "output_type": "stream",
     "text": [
      "C:\\Users\\Dell\\Anaconda3\\lib\\site-packages\\geopandas\\geodataframe.py:546: UserWarning: Boolean Series key will be reindexed to match DataFrame index.\n",
      "  result = super(GeoDataFrame, self).__getitem__(key)\n"
     ]
    }
   ],
   "source": [
    "# fitting fires to cells in year 2012\n",
    "for i in range(39,52):\n",
    "    temp_fires = fires[fires['FIRE_YEAR']==2012]\n",
    "    temp_fires = temp_fires[fires['DISCOVER_1']//7==i]\n",
    "    for j, row in geo_cells.iterrows():\n",
    "        pip = temp_fires.within((geo_cells.loc[j,'geometry'])) # check if inside cell\n",
    "        fire_in_cell = temp_fires[pip==True]\n",
    "        if fire_in_cell.shape[0] >0 : # case of fire in cell\n",
    "            index = j + (i-39)*geo_cells.shape[0] # finding the index of the right cell\n",
    "            geo_cells_with_weeks.at[index,'fire'] = 1"
   ],
   "metadata": {
    "collapsed": false,
    "pycharm": {
     "name": "#%%\n"
    }
   }
  },
  {
   "cell_type": "code",
   "execution_count": 34,
   "outputs": [],
   "source": [
    "# fitting fires to cells in years 2013-2015\n",
    "for y in range(2013,2016):\n",
    "    for i in range(52):\n",
    "        temp_fires = fires[fires['FIRE_YEAR']==y]\n",
    "        temp_fires = temp_fires[fires['DISCOVER_1']//7==i]\n",
    "        for j, row in geo_cells.iterrows():\n",
    "            pip = temp_fires.within((geo_cells.loc[j,'geometry'])) # check if inside cell\n",
    "            fire_in_cell = temp_fires[pip==True]\n",
    "            if fire_in_cell.shape[0] >0 : # case of fire in cell\n",
    "                index = j + i*geo_cells.shape[0] + 13*geo_cells.shape[0] + ((y-2013)*52*geo_cells.shape[0]) # finding the index of the right cell\n",
    "                geo_cells_with_weeks.at[index,'fire'] = 1"
   ],
   "metadata": {
    "collapsed": false,
    "pycharm": {
     "name": "#%%\n"
    }
   }
  },
  {
   "cell_type": "code",
   "execution_count": 35,
   "outputs": [],
   "source": [
    "geo_cells_with_weeks.to_file('geo_cells_complete.shp')"
   ],
   "metadata": {
    "collapsed": false,
    "pycharm": {
     "name": "#%%\n"
    }
   }
  },
  {
   "cell_type": "code",
   "execution_count": 2,
   "outputs": [],
   "source": [
    "geo_cells_with_weeks = gpd.read_file('geo_cells_complete.shp')"
   ],
   "metadata": {
    "collapsed": false,
    "pycharm": {
     "name": "#%%\n"
    }
   }
  },
  {
   "cell_type": "code",
   "execution_count": null,
   "outputs": [],
   "source": [],
   "metadata": {
    "collapsed": false,
    "pycharm": {
     "name": "#%%\n"
    }
   }
  }
 ],
 "metadata": {
  "kernelspec": {
   "display_name": "Python 3",
   "language": "python",
   "name": "python3"
  },
  "language_info": {
   "codemirror_mode": {
    "name": "ipython",
    "version": 2
   },
   "file_extension": ".py",
   "mimetype": "text/x-python",
   "name": "python",
   "nbconvert_exporter": "python",
   "pygments_lexer": "ipython2",
   "version": "2.7.6"
  }
 },
 "nbformat": 4,
 "nbformat_minor": 0
}